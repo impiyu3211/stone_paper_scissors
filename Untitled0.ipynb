{
  "nbformat": 4,
  "nbformat_minor": 0,
  "metadata": {
    "colab": {
      "provenance": [],
      "authorship_tag": "ABX9TyOQcxyZhgBmk62oBkmAa3fv",
      "include_colab_link": true
    },
    "kernelspec": {
      "name": "python3",
      "display_name": "Python 3"
    },
    "language_info": {
      "name": "python"
    }
  },
  "cells": [
    {
      "cell_type": "markdown",
      "metadata": {
        "id": "view-in-github",
        "colab_type": "text"
      },
      "source": [
        "<a href=\"https://colab.research.google.com/github/impiyu3211/stone_paper_scissors/blob/main/Untitled0.ipynb\" target=\"_parent\"><img src=\"https://colab.research.google.com/assets/colab-badge.svg\" alt=\"Open In Colab\"/></a>"
      ]
    },
    {
      "cell_type": "code",
      "execution_count": 1,
      "metadata": {
        "colab": {
          "base_uri": "https://localhost:8080/"
        },
        "id": "vWTCuBWE1JZ6",
        "outputId": "bfb051c5-f881-456e-97ae-ac19cc774fda"
      },
      "outputs": [
        {
          "output_type": "stream",
          "name": "stdout",
          "text": [
            "=== Stone Paper Scissors Game ===\n",
            "Choose one: Stone, Paper, or Scissors\n",
            "Your choice: paper\n",
            "\n",
            "You chose: paper\n",
            "Computer chose: stone\n",
            "You win!\n"
          ]
        }
      ],
      "source": [
        "import random\n",
        "\n",
        "def get_user_choice():\n",
        "    print(\"Choose one: Stone, Paper, or Scissors\")\n",
        "    choice = input(\"Your choice: \").strip().lower()\n",
        "    if choice in [\"stone\", \"paper\", \"scissors\"]:\n",
        "        return choice\n",
        "    else:\n",
        "        print(\"Invalid choice. Please choose again.\")\n",
        "        return get_user_choice()\n",
        "\n",
        "def get_computer_choice():\n",
        "    return random.choice([\"stone\", \"paper\", \"scissors\"])\n",
        "\n",
        "def determine_winner(user, computer):\n",
        "    print(f\"\\nYou chose: {user}\")\n",
        "    print(f\"Computer chose: {computer}\")\n",
        "\n",
        "    if user == computer:\n",
        "        return \"It's a tie!\"\n",
        "\n",
        "    if (\n",
        "        (user == \"stone\" and computer == \"scissors\") or\n",
        "        (user == \"paper\" and computer == \"stone\") or\n",
        "        (user == \"scissors\" and computer == \"paper\")\n",
        "    ):\n",
        "        return \"You win!\"\n",
        "    else:\n",
        "        return \"Computer wins!\"\n",
        "\n",
        "def play_game():\n",
        "    print(\"=== Stone Paper Scissors Game ===\")\n",
        "    user_choice = get_user_choice()\n",
        "    computer_choice = get_computer_choice()\n",
        "    result = determine_winner(user_choice, computer_choice)\n",
        "    print(result)\n",
        "\n",
        "if __name__ == \"__main__\":\n",
        "    play_game()\n"
      ]
    }
  ]
}